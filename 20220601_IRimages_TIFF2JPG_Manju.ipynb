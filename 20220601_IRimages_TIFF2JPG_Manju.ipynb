{
  "nbformat": 4,
  "nbformat_minor": 0,
  "metadata": {
    "colab": {
      "name": "20220601_IRimages_TIFF2JPG_Manju.ipynb",
      "provenance": [],
      "collapsed_sections": [],
      "mount_file_id": "1KzjCsluKMqcTqcJiSn3dAm2Pg_qzkqhd",
      "authorship_tag": "ABX9TyO/EilWdFIjI/kt6YuQ2qFM",
      "include_colab_link": true
    },
    "kernelspec": {
      "name": "python3",
      "display_name": "Python 3"
    },
    "language_info": {
      "name": "python"
    }
  },
  "cells": [
    {
      "cell_type": "markdown",
      "metadata": {
        "id": "view-in-github",
        "colab_type": "text"
      },
      "source": [
        "<a href=\"https://colab.research.google.com/github/Matammanjunath/template_codes_manju/blob/main/20220601_IRimages_TIFF2JPG_Manju.ipynb\" target=\"_parent\"><img src=\"https://colab.research.google.com/assets/colab-badge.svg\" alt=\"Open In Colab\"/></a>"
      ]
    },
    {
      "cell_type": "code",
      "execution_count": 23,
      "metadata": {
        "id": "RScWhc7y2BSF"
      },
      "outputs": [],
      "source": [
        "# Import the modules and files\n",
        "import pandas as pd\n",
        "import os.path\n",
        "import os\n",
        "from os.path import basename,dirname\n",
        "from skimage import io\n",
        "import matplotlib.pyplot as plt\n",
        "import seaborn as sns\n",
        "import glob\n",
        "import math\n",
        "from google.colab import files"
      ]
    },
    {
      "cell_type": "code",
      "source": [
        "# Import the files \n",
        "fold_loc = '/content/drive/MyDrive/20220601_IRimage_TIFF2JPG/IRimagesTIFF/'\n",
        "os.chdir(fold_loc)\n",
        "extension = 'TIFF'\n",
        "res_loc = '/content/drive/MyDrive/20220601_IRimage_TIFF2JPG/IRimagesJPG/'\n",
        "### following is correct order as per field installation. M1=M13\n",
        "tif_files = [i for i in glob.glob('*.{}'.format(extension))] "
      ],
      "metadata": {
        "id": "4pNam-qR2w8J"
      },
      "execution_count": 24,
      "outputs": []
    },
    {
      "cell_type": "code",
      "source": [
        "i = 1\n",
        "for file in tif_files:\n",
        "    raw_image = io.imread(file)\n",
        "    image = raw_image*0.04 - 273.15\n",
        "    Tmin = image.min()\n",
        "    Tmax = image.max()\n",
        "    plt.imshow(image,cmap='inferno',vmin=30,vmax=50)\n",
        "    cbar = plt.colorbar()\n",
        "    cbar.set_label('Temperature °C')\n",
        "    plt.axis('off')\n",
        "    newname = res_loc+basename(file).split('.')[0] + '_IR3.jpg'\n",
        "    plt.savefig(file.replace(basename(file),newname),dpi=1200,bbox_inches='tight')\n",
        "    plt.clf()\n",
        "    print('Completed ' + str(i) + ' of ' + str(len(tif_files)))\n",
        "    i = i + 1"
      ],
      "metadata": {
        "colab": {
          "base_uri": "https://localhost:8080/",
          "height": 194
        },
        "id": "v1plJHoD2ibl",
        "outputId": "54ef2fec-6e85-423b-d75c-c6fb5e4f8841"
      },
      "execution_count": 26,
      "outputs": [
        {
          "output_type": "stream",
          "name": "stdout",
          "text": [
            "Completed 1 of 9\n",
            "Completed 2 of 9\n",
            "Completed 3 of 9\n",
            "Completed 4 of 9\n",
            "Completed 5 of 9\n",
            "Completed 6 of 9\n",
            "Completed 7 of 9\n",
            "Completed 8 of 9\n",
            "Completed 9 of 9\n"
          ]
        },
        {
          "output_type": "display_data",
          "data": {
            "text/plain": [
              "<Figure size 432x288 with 0 Axes>"
            ]
          },
          "metadata": {}
        }
      ]
    },
    {
      "cell_type": "code",
      "source": [
        ""
      ],
      "metadata": {
        "id": "HKIGFpfh75IJ"
      },
      "execution_count": 25,
      "outputs": []
    }
  ]
}